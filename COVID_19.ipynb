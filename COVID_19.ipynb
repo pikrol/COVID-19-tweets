{
  "nbformat": 4,
  "nbformat_minor": 0,
  "metadata": {
    "colab": {
      "name": "COVID-19.ipynb",
      "provenance": [],
      "collapsed_sections": []
    },
    "kernelspec": {
      "name": "python3",
      "display_name": "Python 3"
    },
    "accelerator": "GPU",
    "widgets": {
      "application/vnd.jupyter.widget-state+json": {
        "ea727abccf0d41679095d26434ee6923": {
          "model_module": "@jupyter-widgets/controls",
          "model_name": "HBoxModel",
          "state": {
            "_view_name": "HBoxView",
            "_dom_classes": [],
            "_model_name": "HBoxModel",
            "_view_module": "@jupyter-widgets/controls",
            "_model_module_version": "1.5.0",
            "_view_count": null,
            "_view_module_version": "1.5.0",
            "box_style": "",
            "layout": "IPY_MODEL_cad46bdc38814bd6899f5172dfa0596d",
            "_model_module": "@jupyter-widgets/controls",
            "children": [
              "IPY_MODEL_2128abf4aaa848a2878748c95e9ae870",
              "IPY_MODEL_1d6c47f204904beeb13be5b0f19656f9"
            ]
          },
          "model_module_version": "1.5.0"
        },
        "cad46bdc38814bd6899f5172dfa0596d": {
          "model_module": "@jupyter-widgets/base",
          "model_name": "LayoutModel",
          "state": {
            "_view_name": "LayoutView",
            "grid_template_rows": null,
            "right": null,
            "justify_content": null,
            "_view_module": "@jupyter-widgets/base",
            "overflow": null,
            "_model_module_version": "1.2.0",
            "_view_count": null,
            "flex_flow": null,
            "width": null,
            "min_width": null,
            "border": null,
            "align_items": null,
            "bottom": null,
            "_model_module": "@jupyter-widgets/base",
            "top": null,
            "grid_column": null,
            "overflow_y": null,
            "overflow_x": null,
            "grid_auto_flow": null,
            "grid_area": null,
            "grid_template_columns": null,
            "flex": null,
            "_model_name": "LayoutModel",
            "justify_items": null,
            "grid_row": null,
            "max_height": null,
            "align_content": null,
            "visibility": null,
            "align_self": null,
            "height": null,
            "min_height": null,
            "padding": null,
            "grid_auto_rows": null,
            "grid_gap": null,
            "max_width": null,
            "order": null,
            "_view_module_version": "1.2.0",
            "grid_template_areas": null,
            "object_position": null,
            "object_fit": null,
            "grid_auto_columns": null,
            "margin": null,
            "display": null,
            "left": null
          },
          "model_module_version": "1.2.0"
        },
        "2128abf4aaa848a2878748c95e9ae870": {
          "model_module": "@jupyter-widgets/controls",
          "model_name": "FloatProgressModel",
          "state": {
            "_view_name": "ProgressView",
            "style": "IPY_MODEL_a83c0d01e9c544bcb6353f21e47745fb",
            "_dom_classes": [],
            "description": "Downloading: 100%",
            "_model_name": "FloatProgressModel",
            "bar_style": "success",
            "max": 442,
            "_view_module": "@jupyter-widgets/controls",
            "_model_module_version": "1.5.0",
            "value": 442,
            "_view_count": null,
            "_view_module_version": "1.5.0",
            "orientation": "horizontal",
            "min": 0,
            "description_tooltip": null,
            "_model_module": "@jupyter-widgets/controls",
            "layout": "IPY_MODEL_e6ea323db05a4953bb7c7c9a793eb75e"
          },
          "model_module_version": "1.5.0"
        },
        "1d6c47f204904beeb13be5b0f19656f9": {
          "model_module": "@jupyter-widgets/controls",
          "model_name": "HTMLModel",
          "state": {
            "_view_name": "HTMLView",
            "style": "IPY_MODEL_bd767e384c5643b3938a596f659db8e5",
            "_dom_classes": [],
            "description": "",
            "_model_name": "HTMLModel",
            "placeholder": "​",
            "_view_module": "@jupyter-widgets/controls",
            "_model_module_version": "1.5.0",
            "value": " 442/442 [00:00&lt;00:00, 892B/s]",
            "_view_count": null,
            "_view_module_version": "1.5.0",
            "description_tooltip": null,
            "_model_module": "@jupyter-widgets/controls",
            "layout": "IPY_MODEL_0d8d0cda55a54e7cb4a0796f8584faa1"
          },
          "model_module_version": "1.5.0"
        },
        "a83c0d01e9c544bcb6353f21e47745fb": {
          "model_module": "@jupyter-widgets/controls",
          "model_name": "ProgressStyleModel",
          "state": {
            "_view_name": "StyleView",
            "_model_name": "ProgressStyleModel",
            "description_width": "initial",
            "_view_module": "@jupyter-widgets/base",
            "_model_module_version": "1.5.0",
            "_view_count": null,
            "_view_module_version": "1.2.0",
            "bar_color": null,
            "_model_module": "@jupyter-widgets/controls"
          },
          "model_module_version": "1.5.0"
        },
        "e6ea323db05a4953bb7c7c9a793eb75e": {
          "model_module": "@jupyter-widgets/base",
          "model_name": "LayoutModel",
          "state": {
            "_view_name": "LayoutView",
            "grid_template_rows": null,
            "right": null,
            "justify_content": null,
            "_view_module": "@jupyter-widgets/base",
            "overflow": null,
            "_model_module_version": "1.2.0",
            "_view_count": null,
            "flex_flow": null,
            "width": null,
            "min_width": null,
            "border": null,
            "align_items": null,
            "bottom": null,
            "_model_module": "@jupyter-widgets/base",
            "top": null,
            "grid_column": null,
            "overflow_y": null,
            "overflow_x": null,
            "grid_auto_flow": null,
            "grid_area": null,
            "grid_template_columns": null,
            "flex": null,
            "_model_name": "LayoutModel",
            "justify_items": null,
            "grid_row": null,
            "max_height": null,
            "align_content": null,
            "visibility": null,
            "align_self": null,
            "height": null,
            "min_height": null,
            "padding": null,
            "grid_auto_rows": null,
            "grid_gap": null,
            "max_width": null,
            "order": null,
            "_view_module_version": "1.2.0",
            "grid_template_areas": null,
            "object_position": null,
            "object_fit": null,
            "grid_auto_columns": null,
            "margin": null,
            "display": null,
            "left": null
          },
          "model_module_version": "1.2.0"
        },
        "bd767e384c5643b3938a596f659db8e5": {
          "model_module": "@jupyter-widgets/controls",
          "model_name": "DescriptionStyleModel",
          "state": {
            "_view_name": "StyleView",
            "_model_name": "DescriptionStyleModel",
            "description_width": "",
            "_view_module": "@jupyter-widgets/base",
            "_model_module_version": "1.5.0",
            "_view_count": null,
            "_view_module_version": "1.2.0",
            "_model_module": "@jupyter-widgets/controls"
          },
          "model_module_version": "1.5.0"
        },
        "0d8d0cda55a54e7cb4a0796f8584faa1": {
          "model_module": "@jupyter-widgets/base",
          "model_name": "LayoutModel",
          "state": {
            "_view_name": "LayoutView",
            "grid_template_rows": null,
            "right": null,
            "justify_content": null,
            "_view_module": "@jupyter-widgets/base",
            "overflow": null,
            "_model_module_version": "1.2.0",
            "_view_count": null,
            "flex_flow": null,
            "width": null,
            "min_width": null,
            "border": null,
            "align_items": null,
            "bottom": null,
            "_model_module": "@jupyter-widgets/base",
            "top": null,
            "grid_column": null,
            "overflow_y": null,
            "overflow_x": null,
            "grid_auto_flow": null,
            "grid_area": null,
            "grid_template_columns": null,
            "flex": null,
            "_model_name": "LayoutModel",
            "justify_items": null,
            "grid_row": null,
            "max_height": null,
            "align_content": null,
            "visibility": null,
            "align_self": null,
            "height": null,
            "min_height": null,
            "padding": null,
            "grid_auto_rows": null,
            "grid_gap": null,
            "max_width": null,
            "order": null,
            "_view_module_version": "1.2.0",
            "grid_template_areas": null,
            "object_position": null,
            "object_fit": null,
            "grid_auto_columns": null,
            "margin": null,
            "display": null,
            "left": null
          },
          "model_module_version": "1.2.0"
        },
        "bcc0e58a24914c85a43a28e675d3a438": {
          "model_module": "@jupyter-widgets/controls",
          "model_name": "HBoxModel",
          "state": {
            "_view_name": "HBoxView",
            "_dom_classes": [],
            "_model_name": "HBoxModel",
            "_view_module": "@jupyter-widgets/controls",
            "_model_module_version": "1.5.0",
            "_view_count": null,
            "_view_module_version": "1.5.0",
            "box_style": "",
            "layout": "IPY_MODEL_7018fca705bc4ef89aed4d33fd396849",
            "_model_module": "@jupyter-widgets/controls",
            "children": [
              "IPY_MODEL_429bb6a149e242468f81b9253b7f50ff",
              "IPY_MODEL_31288d26c574417fbac296cacabc7b40"
            ]
          },
          "model_module_version": "1.5.0"
        },
        "7018fca705bc4ef89aed4d33fd396849": {
          "model_module": "@jupyter-widgets/base",
          "model_name": "LayoutModel",
          "state": {
            "_view_name": "LayoutView",
            "grid_template_rows": null,
            "right": null,
            "justify_content": null,
            "_view_module": "@jupyter-widgets/base",
            "overflow": null,
            "_model_module_version": "1.2.0",
            "_view_count": null,
            "flex_flow": null,
            "width": null,
            "min_width": null,
            "border": null,
            "align_items": null,
            "bottom": null,
            "_model_module": "@jupyter-widgets/base",
            "top": null,
            "grid_column": null,
            "overflow_y": null,
            "overflow_x": null,
            "grid_auto_flow": null,
            "grid_area": null,
            "grid_template_columns": null,
            "flex": null,
            "_model_name": "LayoutModel",
            "justify_items": null,
            "grid_row": null,
            "max_height": null,
            "align_content": null,
            "visibility": null,
            "align_self": null,
            "height": null,
            "min_height": null,
            "padding": null,
            "grid_auto_rows": null,
            "grid_gap": null,
            "max_width": null,
            "order": null,
            "_view_module_version": "1.2.0",
            "grid_template_areas": null,
            "object_position": null,
            "object_fit": null,
            "grid_auto_columns": null,
            "margin": null,
            "display": null,
            "left": null
          },
          "model_module_version": "1.2.0"
        },
        "429bb6a149e242468f81b9253b7f50ff": {
          "model_module": "@jupyter-widgets/controls",
          "model_name": "FloatProgressModel",
          "state": {
            "_view_name": "ProgressView",
            "style": "IPY_MODEL_f42ce6718d044fe4ba7b560e05811a57",
            "_dom_classes": [],
            "description": "Downloading: 100%",
            "_model_name": "FloatProgressModel",
            "bar_style": "success",
            "max": 231508,
            "_view_module": "@jupyter-widgets/controls",
            "_model_module_version": "1.5.0",
            "value": 231508,
            "_view_count": null,
            "_view_module_version": "1.5.0",
            "orientation": "horizontal",
            "min": 0,
            "description_tooltip": null,
            "_model_module": "@jupyter-widgets/controls",
            "layout": "IPY_MODEL_31e5603539fc4f7b8c39de742b8bd3c3"
          },
          "model_module_version": "1.5.0"
        },
        "31288d26c574417fbac296cacabc7b40": {
          "model_module": "@jupyter-widgets/controls",
          "model_name": "HTMLModel",
          "state": {
            "_view_name": "HTMLView",
            "style": "IPY_MODEL_06fbe6f4ba134d7586c4baf2de6011d8",
            "_dom_classes": [],
            "description": "",
            "_model_name": "HTMLModel",
            "placeholder": "​",
            "_view_module": "@jupyter-widgets/controls",
            "_model_module_version": "1.5.0",
            "value": " 232k/232k [00:00&lt;00:00, 1.39MB/s]",
            "_view_count": null,
            "_view_module_version": "1.5.0",
            "description_tooltip": null,
            "_model_module": "@jupyter-widgets/controls",
            "layout": "IPY_MODEL_e2c42567071d44aab83178967f390092"
          },
          "model_module_version": "1.5.0"
        },
        "f42ce6718d044fe4ba7b560e05811a57": {
          "model_module": "@jupyter-widgets/controls",
          "model_name": "ProgressStyleModel",
          "state": {
            "_view_name": "StyleView",
            "_model_name": "ProgressStyleModel",
            "description_width": "initial",
            "_view_module": "@jupyter-widgets/base",
            "_model_module_version": "1.5.0",
            "_view_count": null,
            "_view_module_version": "1.2.0",
            "bar_color": null,
            "_model_module": "@jupyter-widgets/controls"
          },
          "model_module_version": "1.5.0"
        },
        "31e5603539fc4f7b8c39de742b8bd3c3": {
          "model_module": "@jupyter-widgets/base",
          "model_name": "LayoutModel",
          "state": {
            "_view_name": "LayoutView",
            "grid_template_rows": null,
            "right": null,
            "justify_content": null,
            "_view_module": "@jupyter-widgets/base",
            "overflow": null,
            "_model_module_version": "1.2.0",
            "_view_count": null,
            "flex_flow": null,
            "width": null,
            "min_width": null,
            "border": null,
            "align_items": null,
            "bottom": null,
            "_model_module": "@jupyter-widgets/base",
            "top": null,
            "grid_column": null,
            "overflow_y": null,
            "overflow_x": null,
            "grid_auto_flow": null,
            "grid_area": null,
            "grid_template_columns": null,
            "flex": null,
            "_model_name": "LayoutModel",
            "justify_items": null,
            "grid_row": null,
            "max_height": null,
            "align_content": null,
            "visibility": null,
            "align_self": null,
            "height": null,
            "min_height": null,
            "padding": null,
            "grid_auto_rows": null,
            "grid_gap": null,
            "max_width": null,
            "order": null,
            "_view_module_version": "1.2.0",
            "grid_template_areas": null,
            "object_position": null,
            "object_fit": null,
            "grid_auto_columns": null,
            "margin": null,
            "display": null,
            "left": null
          },
          "model_module_version": "1.2.0"
        },
        "06fbe6f4ba134d7586c4baf2de6011d8": {
          "model_module": "@jupyter-widgets/controls",
          "model_name": "DescriptionStyleModel",
          "state": {
            "_view_name": "StyleView",
            "_model_name": "DescriptionStyleModel",
            "description_width": "",
            "_view_module": "@jupyter-widgets/base",
            "_model_module_version": "1.5.0",
            "_view_count": null,
            "_view_module_version": "1.2.0",
            "_model_module": "@jupyter-widgets/controls"
          },
          "model_module_version": "1.5.0"
        },
        "e2c42567071d44aab83178967f390092": {
          "model_module": "@jupyter-widgets/base",
          "model_name": "LayoutModel",
          "state": {
            "_view_name": "LayoutView",
            "grid_template_rows": null,
            "right": null,
            "justify_content": null,
            "_view_module": "@jupyter-widgets/base",
            "overflow": null,
            "_model_module_version": "1.2.0",
            "_view_count": null,
            "flex_flow": null,
            "width": null,
            "min_width": null,
            "border": null,
            "align_items": null,
            "bottom": null,
            "_model_module": "@jupyter-widgets/base",
            "top": null,
            "grid_column": null,
            "overflow_y": null,
            "overflow_x": null,
            "grid_auto_flow": null,
            "grid_area": null,
            "grid_template_columns": null,
            "flex": null,
            "_model_name": "LayoutModel",
            "justify_items": null,
            "grid_row": null,
            "max_height": null,
            "align_content": null,
            "visibility": null,
            "align_self": null,
            "height": null,
            "min_height": null,
            "padding": null,
            "grid_auto_rows": null,
            "grid_gap": null,
            "max_width": null,
            "order": null,
            "_view_module_version": "1.2.0",
            "grid_template_areas": null,
            "object_position": null,
            "object_fit": null,
            "grid_auto_columns": null,
            "margin": null,
            "display": null,
            "left": null
          },
          "model_module_version": "1.2.0"
        }
      }
    }
  },
  "cells": [
    {
      "cell_type": "code",
      "metadata": {
        "id": "85ByMHFUoKn7"
      },
      "source": [
        "pip install --upgrade git+https://github.com/flairNLP/flair.git"
      ],
      "execution_count": null,
      "outputs": []
    },
    {
      "cell_type": "code",
      "metadata": {
        "id": "dSl-2PzGdL-8"
      },
      "source": [
        "import os\n",
        "import tweepy as tw\n",
        "import pandas as pd\n",
        "import re\n",
        "from flair.models import TextClassifier\n",
        "from flair.data import Sentence\n",
        "import matplotlib.pyplot as plt"
      ],
      "execution_count": null,
      "outputs": []
    },
    {
      "cell_type": "code",
      "metadata": {
        "id": "P9mvHQpddp9z"
      },
      "source": [
        "#consumer_key, consumer_secret, access_token, access_token_secret are secret variables I keep in other place\n",
        "auth = tw.OAuthHandler(consumer_key, consumer_secret)\n",
        "auth.set_access_token(access_token, access_token_secret)\n",
        "api = tw.API(auth, wait_on_rate_limit=True)\n",
        "\n",
        "search_words = \"#COVID-19\" + \" -filter:retweets\" \n",
        "date_since = \"2020-03-01\""
      ],
      "execution_count": null,
      "outputs": []
    },
    {
      "cell_type": "code",
      "metadata": {
        "id": "oNXT1fqsd7vg"
      },
      "source": [
        "tweets = tw.Cursor(api.search,\n",
        "              q=search_words,\n",
        "              lang=\"en\",\n",
        "              tweet_mode='extended',\n",
        "              since=date_since).items(1000)"
      ],
      "execution_count": null,
      "outputs": []
    },
    {
      "cell_type": "code",
      "metadata": {
        "id": "APu2obIIeWuG",
        "colab": {
          "base_uri": "https://localhost:8080/",
          "height": 122
        },
        "outputId": "7a157e5c-397d-455b-dd93-6237645eb223"
      },
      "source": [
        "all_tweets = [tweet.full_text for tweet in tweets]\n",
        "all_tweets[:5]"
      ],
      "execution_count": null,
      "outputs": [
        {
          "output_type": "execute_result",
          "data": {
            "text/plain": [
              "['GO TO TRUMP RALLY AND SIGN A DIFFERENT NAME ON WAVER. THE SUE WHEN YOU GET COVID 19.',\n",
              " '#Covid_19: Release the 111 call numbers related to Covid symptoms, that way at least the uk will know in advance how active the Virus is. It can take weeks for a 111 symptom call to show on the info the Gov releases at the moment. Even longer before hospital or death.',\n",
              " \"Heritage Ministries Reports County's First Nursing Home Resident with COVID-19 | Chautauqua Today: https://t.co/kVjtmn9Eno\",\n",
              " '\"With God on your side\".....\\xa0those with “no religion” – based on responses in the 2011 Census – had the lowest rate of death involving Covid-19.... #atheism',\n",
              " '@ayo_dele @PmacMd @shooterdee May covid-19 see us and pass.😢']"
            ]
          },
          "metadata": {
            "tags": []
          },
          "execution_count": 6
        }
      ]
    },
    {
      "cell_type": "code",
      "metadata": {
        "id": "MNY6gjCyfoeg"
      },
      "source": [
        "def remove_url(txt):\n",
        "    return \" \".join(re.sub(\"([^0-9A-Za-z \\t])|(\\w+:\\/\\/\\S+)\", \"\", txt).split())"
      ],
      "execution_count": null,
      "outputs": []
    },
    {
      "cell_type": "code",
      "metadata": {
        "id": "4BoipamEfyj5",
        "colab": {
          "base_uri": "https://localhost:8080/",
          "height": 122
        },
        "outputId": "cf370d35-b363-4358-f713-97aac4e1b1db"
      },
      "source": [
        "all_tweets_no_urls = [remove_url(tweet) for tweet in all_tweets]\n",
        "all_tweets_no_urls[:5]"
      ],
      "execution_count": null,
      "outputs": [
        {
          "output_type": "execute_result",
          "data": {
            "text/plain": [
              "['GO TO TRUMP RALLY AND SIGN A DIFFERENT NAME ON WAVER THE SUE WHEN YOU GET COVID 19',\n",
              " 'Covid19 Release the 111 call numbers related to Covid symptoms that way at least the uk will know in advance how active the Virus is It can take weeks for a 111 symptom call to show on the info the Gov releases at the moment Even longer before hospital or death',\n",
              " 'Heritage Ministries Reports Countys First Nursing Home Resident with COVID19 Chautauqua Today',\n",
              " 'With God on your sidethose with no religion based on responses in the 2011 Census had the lowest rate of death involving Covid19 atheism',\n",
              " 'ayodele PmacMd shooterdee May covid19 see us and pass']"
            ]
          },
          "metadata": {
            "tags": []
          },
          "execution_count": 8
        }
      ]
    },
    {
      "cell_type": "code",
      "metadata": {
        "id": "hXxmwSqBgve6",
        "colab": {
          "base_uri": "https://localhost:8080/",
          "height": 220,
          "referenced_widgets": [
            "ea727abccf0d41679095d26434ee6923",
            "cad46bdc38814bd6899f5172dfa0596d",
            "2128abf4aaa848a2878748c95e9ae870",
            "1d6c47f204904beeb13be5b0f19656f9",
            "a83c0d01e9c544bcb6353f21e47745fb",
            "e6ea323db05a4953bb7c7c9a793eb75e",
            "bd767e384c5643b3938a596f659db8e5",
            "0d8d0cda55a54e7cb4a0796f8584faa1",
            "bcc0e58a24914c85a43a28e675d3a438",
            "7018fca705bc4ef89aed4d33fd396849",
            "429bb6a149e242468f81b9253b7f50ff",
            "31288d26c574417fbac296cacabc7b40",
            "f42ce6718d044fe4ba7b560e05811a57",
            "31e5603539fc4f7b8c39de742b8bd3c3",
            "06fbe6f4ba134d7586c4baf2de6011d8",
            "e2c42567071d44aab83178967f390092"
          ]
        },
        "outputId": "4ff8bc0d-c5a4-439e-ebe3-4682726e49c9"
      },
      "source": [
        "def label_to_number(labels):\n",
        "  if labels[0].value == \"POSITIVE\":\n",
        "    return labels[0].score\n",
        "  else:\n",
        "    return labels[0].score * -1\n",
        "\n",
        "classifier = TextClassifier.load('en-sentiment')\n",
        "\n",
        "def get_sentiment_value(txt):\n",
        "  sent = Sentence(txt)\n",
        "  classifier.predict(sent)\n",
        "  return label_to_number(sent.labels)"
      ],
      "execution_count": null,
      "outputs": [
        {
          "output_type": "stream",
          "text": [
            "2020-06-19 09:58:22,800 https://nlp.informatik.hu-berlin.de/resources/models/sentiment-curated-distilbert/sentiment-en-mix-distillbert.pt not found in cache, downloading to /tmp/tmpg666wgxk\n"
          ],
          "name": "stdout"
        },
        {
          "output_type": "stream",
          "text": [
            "100%|██████████| 266170364/266170364 [00:27<00:00, 9659005.29B/s]"
          ],
          "name": "stderr"
        },
        {
          "output_type": "stream",
          "text": [
            "2020-06-19 09:58:50,736 copying /tmp/tmpg666wgxk to cache at /root/.flair/models/sentiment-en-mix-distillbert.pt\n"
          ],
          "name": "stdout"
        },
        {
          "output_type": "stream",
          "text": [
            "\n"
          ],
          "name": "stderr"
        },
        {
          "output_type": "stream",
          "text": [
            "2020-06-19 09:58:51,282 removing temp file /tmp/tmpg666wgxk\n",
            "2020-06-19 09:58:51,315 loading file /root/.flair/models/sentiment-en-mix-distillbert.pt\n"
          ],
          "name": "stdout"
        },
        {
          "output_type": "display_data",
          "data": {
            "application/vnd.jupyter.widget-view+json": {
              "model_id": "ea727abccf0d41679095d26434ee6923",
              "version_minor": 0,
              "version_major": 2
            },
            "text/plain": [
              "HBox(children=(FloatProgress(value=0.0, description='Downloading', max=442.0, style=ProgressStyle(description_…"
            ]
          },
          "metadata": {
            "tags": []
          }
        },
        {
          "output_type": "stream",
          "text": [
            "\n"
          ],
          "name": "stdout"
        },
        {
          "output_type": "display_data",
          "data": {
            "application/vnd.jupyter.widget-view+json": {
              "model_id": "bcc0e58a24914c85a43a28e675d3a438",
              "version_minor": 0,
              "version_major": 2
            },
            "text/plain": [
              "HBox(children=(FloatProgress(value=0.0, description='Downloading', max=231508.0, style=ProgressStyle(descripti…"
            ]
          },
          "metadata": {
            "tags": []
          }
        },
        {
          "output_type": "stream",
          "text": [
            "\n"
          ],
          "name": "stdout"
        }
      ]
    },
    {
      "cell_type": "code",
      "metadata": {
        "id": "qeV58UsfiICh"
      },
      "source": [
        "sentiment_values = [[get_sentiment_value(tweet), tweet] for tweet in all_tweets_no_urls]\n",
        "sentiment_df = pd.DataFrame(sentiment_values, columns=[\"polarity\", \"tweet\"])"
      ],
      "execution_count": null,
      "outputs": []
    },
    {
      "cell_type": "code",
      "metadata": {
        "id": "R4FeN7VJoF-x",
        "colab": {
          "base_uri": "https://localhost:8080/",
          "height": 419
        },
        "outputId": "9cadf187-ed0c-4f0d-90d6-8bd5d2b75030"
      },
      "source": [
        "sentiment_df[sentiment_df['polarity'] > 0]"
      ],
      "execution_count": null,
      "outputs": [
        {
          "output_type": "execute_result",
          "data": {
            "text/html": [
              "<div>\n",
              "<style scoped>\n",
              "    .dataframe tbody tr th:only-of-type {\n",
              "        vertical-align: middle;\n",
              "    }\n",
              "\n",
              "    .dataframe tbody tr th {\n",
              "        vertical-align: top;\n",
              "    }\n",
              "\n",
              "    .dataframe thead th {\n",
              "        text-align: right;\n",
              "    }\n",
              "</style>\n",
              "<table border=\"1\" class=\"dataframe\">\n",
              "  <thead>\n",
              "    <tr style=\"text-align: right;\">\n",
              "      <th></th>\n",
              "      <th>polarity</th>\n",
              "      <th>tweet</th>\n",
              "    </tr>\n",
              "  </thead>\n",
              "  <tbody>\n",
              "    <tr>\n",
              "      <th>2</th>\n",
              "      <td>0.995630</td>\n",
              "      <td>Heritage Ministries Reports Countys First Nurs...</td>\n",
              "    </tr>\n",
              "    <tr>\n",
              "      <th>4</th>\n",
              "      <td>0.888230</td>\n",
              "      <td>ayodele PmacMd shooterdee May covid19 see us a...</td>\n",
              "    </tr>\n",
              "    <tr>\n",
              "      <th>6</th>\n",
              "      <td>0.972908</td>\n",
              "      <td>To help those who have supported the country d...</td>\n",
              "    </tr>\n",
              "    <tr>\n",
              "      <th>7</th>\n",
              "      <td>0.926726</td>\n",
              "      <td>How Well Do Americans Know the Facts AboutCOVID19</td>\n",
              "    </tr>\n",
              "    <tr>\n",
              "      <th>8</th>\n",
              "      <td>0.994507</td>\n",
              "      <td>Gaborone hub has joined the Young Global Leade...</td>\n",
              "    </tr>\n",
              "    <tr>\n",
              "      <th>...</th>\n",
              "      <td>...</td>\n",
              "      <td>...</td>\n",
              "    </tr>\n",
              "    <tr>\n",
              "      <th>990</th>\n",
              "      <td>0.727367</td>\n",
              "      <td>ProjectLincoln GovRonDeSantis So that means de...</td>\n",
              "    </tr>\n",
              "    <tr>\n",
              "      <th>991</th>\n",
              "      <td>0.996716</td>\n",
              "      <td>CornPop62380277 FunPatroll doctorcherokee ther...</td>\n",
              "    </tr>\n",
              "    <tr>\n",
              "      <th>993</th>\n",
              "      <td>0.854588</td>\n",
              "      <td>Happening Now IOM UNmigration is organizing tr...</td>\n",
              "    </tr>\n",
              "    <tr>\n",
              "      <th>997</th>\n",
              "      <td>0.831440</td>\n",
              "      <td>Decolonize everything NOW Is COVID19 magnifyin...</td>\n",
              "    </tr>\n",
              "    <tr>\n",
              "      <th>998</th>\n",
              "      <td>0.650836</td>\n",
              "      <td>Hosted by hashfisiapa and zahradamariva lets l...</td>\n",
              "    </tr>\n",
              "  </tbody>\n",
              "</table>\n",
              "<p>435 rows × 2 columns</p>\n",
              "</div>"
            ],
            "text/plain": [
              "     polarity                                              tweet\n",
              "2    0.995630  Heritage Ministries Reports Countys First Nurs...\n",
              "4    0.888230  ayodele PmacMd shooterdee May covid19 see us a...\n",
              "6    0.972908  To help those who have supported the country d...\n",
              "7    0.926726  How Well Do Americans Know the Facts AboutCOVID19\n",
              "8    0.994507  Gaborone hub has joined the Young Global Leade...\n",
              "..        ...                                                ...\n",
              "990  0.727367  ProjectLincoln GovRonDeSantis So that means de...\n",
              "991  0.996716  CornPop62380277 FunPatroll doctorcherokee ther...\n",
              "993  0.854588  Happening Now IOM UNmigration is organizing tr...\n",
              "997  0.831440  Decolonize everything NOW Is COVID19 magnifyin...\n",
              "998  0.650836  Hosted by hashfisiapa and zahradamariva lets l...\n",
              "\n",
              "[435 rows x 2 columns]"
            ]
          },
          "metadata": {
            "tags": []
          },
          "execution_count": 12
        }
      ]
    },
    {
      "cell_type": "code",
      "metadata": {
        "id": "ye23Pepto7Te",
        "colab": {
          "base_uri": "https://localhost:8080/",
          "height": 390
        },
        "outputId": "4c0e6735-7ec4-495d-d541-7839ed42edaf"
      },
      "source": [
        "fig, ax = plt.subplots(figsize=(8, 6))\n",
        "\n",
        "sentiment_df.hist(\n",
        "             ax=ax,\n",
        "             color=\"red\")\n",
        "\n",
        "plt.title(\"Sentiments from Tweets on COVID-19\")\n",
        "plt.show()"
      ],
      "execution_count": null,
      "outputs": [
        {
          "output_type": "display_data",
          "data": {
            "image/png": "[encoded data removed]",
            "text/plain": [
              "<Figure size 576x432 with 1 Axes>"
            ]
          },
          "metadata": {
            "tags": [],
            "needs_background": "light"
          }
        }
      ]
    },
    {
      "cell_type": "code",
      "metadata": {
        "id": "Fu9XK5xgbsIj"
      },
      "source": [
        "pd.set_option('max_colwidth', None)\n",
        "sentiment_df.sort_values(by=['polarity']).tail(10)"
      ],
      "execution_count": null,
      "outputs": []
    },
    {
      "cell_type": "markdown",
      "metadata": {
        "id": "hjSHok9Ew5pi"
      },
      "source": [
        "## Tweets analysis divided on positive and negative sentiment"
      ]
    },
    {
      "cell_type": "markdown",
      "metadata": {
        "id": "MDg0GZBoxEtm"
      },
      "source": [
        "***Positive sentiment tweets***"
      ]
    },
    {
      "cell_type": "code",
      "metadata": {
        "id": "u1vkjm-zQwAN",
        "colab": {
          "base_uri": "https://localhost:8080/",
          "height": 564
        },
        "outputId": "deb15186-3319-4676-f700-60211b238b09"
      },
      "source": [
        "positive = sentiment_df.sort_values(by=['polarity']).tail(100)\n",
        "sent_pos = positive['tweet']\n",
        "sent_uniq_pos = []\n",
        "for sent in sent_pos:\n",
        "  if sent not in sent_uniq_pos:\n",
        "    sent_uniq_pos.append(sent)\n",
        "text_pos = \" \".join(sent_uniq_pos)\n",
        "text_pos = text_pos.lower()\n",
        "\n",
        "pd.set_option('display.max_colwidth',1000)\n",
        "sent_pos.tail(30)"
      ],
      "execution_count": null,
      "outputs": [
        {
          "output_type": "execute_result",
          "data": {
            "text/plain": [
              "271                                                                                                                                                                                                          COVID19 Oyo State Records Highest SingleDay Increase of 103 NewCases\n",
              "773                                       We are really pleased to have funded this lovely nightwear from our COVID19 Fundraising for the Patients at NGHnhstrust who cant have any visitors at this timeThese have been very speedily distributed by the Patient Experience Team\n",
              "174                                                                                                                                                                                                   rhondaharbison thehill Its startling how much this resembles the covid19 ce\n",
              "65                                                                                                                                                                                                          NASA Partner Space Agencies to Release Global View of COVID19 Impacts\n",
              "577                                                                                                                                                                       Interesting interaction between I and Students in England about Europe and African Covid19 perspectives\n",
              "687                                                                                                                                                                                                                                            Auto sector and the COVID19 impact\n",
              "375                          Two inspiring young people from Sheffield have created the Frontline Pin FrontlinePin to give to NHS workers to show gratitude for their work during the COVID19 pandemic They have worked incredibly hard and so far made and gifted over 8000 pins\n",
              "749                                                                                                                                                                                 COVID19 Accelerates Urgency For Digital Banking Transformation The Financial Brand via nuzzel\n",
              "46                                                                                                                                                                                                                                                   Covid19 saved bigballerbrand\n",
              "760                                                                                                                                                                                                                                You flock like that covid 19 will flock to you\n",
              "317                                                                                                                                                                                                      The best source for an insight into medical advances relating to COVID19\n",
              "350                                                                                                                                                                                                                                  Over 200000 recuperate from COVID19 in India\n",
              "893                                                                                                                                                                                                                                      Communicating in a PostCOVID19 Landscape\n",
              "841                                                                                                       Impact of Covid19 Global Automobile Fuel Meter Market 2020 To 2027 Continental Taimike Automotive Systems Bosch Delphi Automotive PLC Calsonic Kansei Denso NJ MMA News\n",
              "840                                                                                                       Impact of Covid19 Global Automobile Fuel Meter Market 2020 To 2027 Continental Taimike Automotive Systems Bosch Delphi Automotive PLC Calsonic Kansei Denso NJ MMA News\n",
              "881                                                                                                       Impact of Covid19 Global Automobile Fuel Meter Market 2020 To 2027 Continental Taimike Automotive Systems Bosch Delphi Automotive PLC Calsonic Kansei Denso NJ MMA News\n",
              "695                                                                                Strokes and the impact of COVID 19Almost twothirds of survivors leave hospital with a disability following a stroke and intensive rehabilitation is vital to ensure the best possible recovery\n",
              "858                         Job alert Research associate needed at University of Sheffield to work on an ESRC funded project about CV19 A longitudinal mixedmethods population study of the UK during the COVID19 pandemic Psychological and social adjustment to a global threat\n",
              "25     Thanks to Dr Kirki Ori Chief Engineer Police Housing for providing Self disinfection booth at the entrance of APH amp WCL Office Building at PHQ This will definitely help disinfecting the body of the visitors amp Staffs attending the office from the pandemic Covid19\n",
              "413                                     Liquid chalk will it reduce the spread of Covid19 at climbing wallsAs climbing walls prepare to reopen in the UK we look in detail at the latest thoughts on reducing the contagion at walls and the part liquid chalk might have to play\n",
              "15                                                                                                                                                                                      Lawrence O Gostin COVID19 Reveals Urgent Need to Strengthen the World Health Organization\n",
              "135                                                                                                                                                           Digging through old tweets and its haunting me how much more true this take rings with Americas response to CoVID19\n",
              "101                                 Ive attended a few roundtables recently where the subject has been COVID19 and potential impact on cybersecurity DanSwinhoe s article in CSOonline addresses some of the key questions on the topic and also includes some of my thoughts too\n",
              "506                         As local economies across the UK face unprecedented challenges due to Covid19 Lexington will be exploring the opportunities presented by integrating social value into our decisionmaking for both local authorities and businesses in the North West\n",
              "705                                                  Godrej Aerospace delivers to DRDO Solenoid Valves for making Covid19 ventilators ADU GodrejandBoyceGodrejgroupGodrejAerospaceSolenoidValvesCOVID19ventilatorsDefenseResearchandDevelopmentOrganizationDRDOCoronaVirusCOVID19\n",
              "740                                                                                                                                                                                        How the New York Times is capturing the unprecedented impact of COVID19 design sidebar\n",
              "134                                                                                                                                                                                                                                                achshivan The power of Covid19\n",
              "902                                                                                                                                                                                    SDGs In Action Volume XIII Spotlight on the impact of COVID 19 on Women and Girls in Kenya\n",
              "742                              Fight flight or freeze remain powerful human responses to situations like COVID19 which can provoke feelings of anxiety and fear Joe Dettmann one of our PAS Partners shares four ways employers can build trust during uncertainty FutureOfWork\n",
              "843                                                                                                                                          The famous Longitude Prize in 18th century England demonstrated neatly how solutions to problems can come from unexpected directions\n",
              "Name: tweet, dtype: object"
            ]
          },
          "metadata": {
            "tags": []
          },
          "execution_count": 20
        }
      ]
    },
    {
      "cell_type": "markdown",
      "metadata": {
        "id": "NF3i6m31xMWX"
      },
      "source": [
        "* **Most common words**\n",
        "\n"
      ]
    },
    {
      "cell_type": "code",
      "metadata": {
        "id": "344C5RyyQpcF",
        "colab": {
          "base_uri": "https://localhost:8080/",
          "height": 867
        },
        "outputId": "5b6cca68-07e4-4bd9-ab16-f42f1ad78ad0"
      },
      "source": [
        "from nltk.tokenize import RegexpTokenizer\n",
        "from collections import Counter\n",
        "tokenizer = RegexpTokenizer('\\w+|\\$[\\d\\.]+|\\S+')\n",
        "tokens = tokenizer.tokenize(text_pos)\n",
        "Counter(tokens).most_common(50)"
      ],
      "execution_count": null,
      "outputs": [
        {
          "output_type": "execute_result",
          "data": {
            "text/plain": [
              "[('the', 123),\n",
              " ('covid19', 86),\n",
              " ('and', 75),\n",
              " ('to', 67),\n",
              " ('of', 66),\n",
              " ('in', 45),\n",
              " ('a', 36),\n",
              " ('for', 35),\n",
              " ('on', 23),\n",
              " ('from', 21),\n",
              " ('is', 19),\n",
              " ('at', 17),\n",
              " ('we', 16),\n",
              " ('have', 16),\n",
              " ('as', 15),\n",
              " ('this', 14),\n",
              " ('our', 14),\n",
              " ('amp', 12),\n",
              " ('with', 12),\n",
              " ('how', 12),\n",
              " ('by', 11),\n",
              " ('i', 11),\n",
              " ('will', 10),\n",
              " ('be', 10),\n",
              " ('can', 10),\n",
              " ('are', 9),\n",
              " ('that', 9),\n",
              " ('during', 9),\n",
              " ('impact', 9),\n",
              " ('has', 8),\n",
              " ('their', 8),\n",
              " ('you', 7),\n",
              " ('pandemic', 7),\n",
              " ('social', 6),\n",
              " ('some', 6),\n",
              " ('out', 6),\n",
              " ('world', 6),\n",
              " ('global', 6),\n",
              " ('people', 6),\n",
              " ('covid', 6),\n",
              " ('19', 6),\n",
              " ('my', 6),\n",
              " ('it', 6),\n",
              " ('an', 6),\n",
              " ('uk', 6),\n",
              " ('via', 6),\n",
              " ('level', 5),\n",
              " ('way', 5),\n",
              " ('health', 5),\n",
              " ('more', 5)]"
            ]
          },
          "metadata": {
            "tags": []
          },
          "execution_count": 21
        }
      ]
    },
    {
      "cell_type": "markdown",
      "metadata": {
        "id": "kuPdHVCSxUTS"
      },
      "source": [
        "* **Context of chosen words**"
      ]
    },
    {
      "cell_type": "code",
      "metadata": {
        "id": "EptP_d9JSVkW",
        "colab": {
          "base_uri": "https://localhost:8080/",
          "height": 275
        },
        "outputId": "b8fbbf8a-c183-40b1-ca42-43316f3e8454"
      },
      "source": [
        "import re\n",
        "items = []\n",
        "for ii,item in enumerate(re.finditer(r\"( you )\",text_pos)):\n",
        "  items.append((item.group(), text_pos[item.start()-100:item.end()+200]))\n",
        "items"
      ],
      "execution_count": null,
      "outputs": [
        {
          "output_type": "execute_result",
          "data": {
            "text/plain": [
              "[(' you ',\n",
              "  'at jalgaon also treatment of covid 19 has done and the patient recovered within 73 hrs remember when you were coronavirus disease 2019 covid19 you shone like the sun climateducate projectenvironmental issues in the context of covid19 crisis in bangladeshmr raguib uddin ahmedenvironmental scientist adviso'),\n",
              " (' you ',\n",
              "  'done and the patient recovered within 73 hrs remember when you were coronavirus disease 2019 covid19 you shone like the sun climateducate projectenvironmental issues in the context of covid19 crisis in bangladeshmr raguib uddin ahmedenvironmental scientist advisorloven bangladeshcovid19 consequences in b'),\n",
              " (' you ',\n",
              "  'oad of sitio balintulay brgy kahupian sogod southern leyteteampnppnpkakampimoweserveandprotect thank you wef for highlighting one of the measures we carried on during these previous months to fight the covid19 and protect our professionals along the way investintheplanet fantastic soldout webinar with he'),\n",
              " (' you ',\n",
              "  'stin et al the dual epidemics of covid19 and influenza vaccine acceptance coverage and mandates have you heard the qub history of pandemics podcast 5 brilliant episodes looking at ancient greece amp rome the black death as well as the impact of covid19 on the economy you can catch them herespotify apple '),\n",
              " (' you ',\n",
              "  's looking at ancient greece amp rome the black death as well as the impact of covid19 on the economy you can catch them herespotify apple music a bunch of vibrant emiratis and expats youngsters from eight research centers is developing innovative solutions to empower the uae and beat covid19 pandemicemir'),\n",
              " (' you ',\n",
              "  'gency for digital banking transformation the financial brand via nuzzel covid19 saved bigballerbrand you flock like that covid 19 will flock to you the best source for an insight into medical advances relating to covid19 over 200000 recuperate from covid19 in india communicating in a postcovid19 landscap'),\n",
              " (' you ',\n",
              "  'e financial brand via nuzzel covid19 saved bigballerbrand you flock like that covid 19 will flock to you the best source for an insight into medical advances relating to covid19 over 200000 recuperate from covid19 in india communicating in a postcovid19 landscape impact of covid19 global automobile fuel ')]"
            ]
          },
          "metadata": {
            "tags": []
          },
          "execution_count": 22
        }
      ]
    },
    {
      "cell_type": "markdown",
      "metadata": {
        "id": "K4S2B_9txY9M"
      },
      "source": [
        "***Negative sentiment tweets***"
      ]
    },
    {
      "cell_type": "code",
      "metadata": {
        "id": "b2r8lAZBSUmS"
      },
      "source": [
        "negative = sentiment_df.sort_values(by=['polarity']).head(100)\n",
        "sent_neg = negative['tweet']\n",
        "sent_uniq_neg = []\n",
        "for sent in sent_neg:\n",
        "  if sent not in sent_uniq_neg:\n",
        "    sent_uniq_neg.append(sent)\n",
        "text_neg = \" \".join(sent_neg)\n",
        "text_neg = text_neg.lower()\n",
        "#sent_neg.tail(30)\n"
      ],
      "execution_count": null,
      "outputs": []
    },
    {
      "cell_type": "markdown",
      "metadata": {
        "id": "AnT0oyImxzJx"
      },
      "source": [
        "* **Most common words**\n"
      ]
    },
    {
      "cell_type": "code",
      "metadata": {
        "id": "tnptKc3Uwzj3",
        "colab": {
          "base_uri": "https://localhost:8080/",
          "height": 867
        },
        "outputId": "8c4d7582-597c-4ce2-8601-1c73053f9c70"
      },
      "source": [
        "from nltk.tokenize import RegexpTokenizer\n",
        "from collections import Counter\n",
        "tokenizer = RegexpTokenizer('\\w+|\\$[\\d\\.]+|\\S+')\n",
        "tokens = tokenizer.tokenize(text_neg)\n",
        "Counter(tokens).most_common(50)"
      ],
      "execution_count": null,
      "outputs": [
        {
          "output_type": "execute_result",
          "data": {
            "text/plain": [
              "[('the', 102),\n",
              " ('to', 98),\n",
              " ('covid19', 84),\n",
              " ('is', 48),\n",
              " ('of', 45),\n",
              " ('a', 44),\n",
              " ('in', 44),\n",
              " ('that', 37),\n",
              " ('and', 33),\n",
              " ('for', 29),\n",
              " ('from', 25),\n",
              " ('as', 21),\n",
              " ('we', 21),\n",
              " ('i', 19),\n",
              " ('have', 19),\n",
              " ('covid', 18),\n",
              " ('on', 18),\n",
              " ('are', 18),\n",
              " ('it', 17),\n",
              " ('be', 16),\n",
              " ('not', 16),\n",
              " ('if', 15),\n",
              " ('they', 15),\n",
              " ('19', 15),\n",
              " ('so', 15),\n",
              " ('this', 14),\n",
              " ('with', 14),\n",
              " ('amp', 14),\n",
              " ('level', 13),\n",
              " ('people', 13),\n",
              " ('no', 12),\n",
              " ('just', 12),\n",
              " ('has', 12),\n",
              " ('can', 12),\n",
              " ('you', 12),\n",
              " ('unpaid', 12),\n",
              " ('3', 11),\n",
              " ('or', 11),\n",
              " ('at', 11),\n",
              " ('coronavirus', 11),\n",
              " ('were', 10),\n",
              " ('up', 10),\n",
              " ('many', 10),\n",
              " ('its', 9),\n",
              " ('my', 9),\n",
              " ('virus', 9),\n",
              " ('their', 9),\n",
              " ('test', 8),\n",
              " ('by', 8),\n",
              " ('but', 8)]"
            ]
          },
          "metadata": {
            "tags": []
          },
          "execution_count": 24
        }
      ]
    },
    {
      "cell_type": "markdown",
      "metadata": {
        "id": "id-6xxGVx3r3"
      },
      "source": [
        "* **Context of chosen words**"
      ]
    },
    {
      "cell_type": "code",
      "metadata": {
        "id": "2eZb-t5VwzcL",
        "colab": {
          "base_uri": "https://localhost:8080/",
          "height": 105
        },
        "outputId": "54a6b3c4-c78e-4b10-b6c3-d909cb24f0aa"
      },
      "source": [
        "import re\n",
        "items = []\n",
        "for ii,item in enumerate(re.finditer(r\"( realdonaldtrump )\",text_neg)):\n",
        "  items.append((item.group(), text_neg[item.start()-140:item.end()+140]))\n",
        "items"
      ],
      "execution_count": null,
      "outputs": [
        {
          "output_type": "execute_result",
          "data": {
            "text/plain": [
              "[(' realdonaldtrump ',\n",
              "  'us how a false rumour led to hate online anyone who believes covid19 created by uk laboratory using gates money has to be as stupid as potus realdonaldtrump wooo virus level 3 general circulation covid19 is basically now exactly like the dailymail its in circulation and toxic to anyone who dares '),\n",
              " (' realdonaldtrump ',\n",
              "  'k to home church or workplace anyone else who catches covid19 from that person should hold accountable the campaign of president coronavirus realdonaldtrump potus is holding an indoor rally during a public health crisis skynews obviously covid19 is racist the covid19 pandemic is compounding the i')]"
            ]
          },
          "metadata": {
            "tags": []
          },
          "execution_count": 25
        }
      ]
    }
  ]
}